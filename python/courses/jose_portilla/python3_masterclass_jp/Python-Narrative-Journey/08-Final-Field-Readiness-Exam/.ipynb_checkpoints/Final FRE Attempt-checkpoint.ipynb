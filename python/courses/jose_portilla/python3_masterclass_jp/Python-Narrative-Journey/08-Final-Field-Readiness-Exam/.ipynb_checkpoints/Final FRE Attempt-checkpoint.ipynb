{
 "cells": [
  {
   "cell_type": "markdown",
   "metadata": {
    "collapsed": true
   },
   "source": [
    "# Final Field Readiness Test \n",
    "\n",
    "** For this test you will be using Object Oriented Programming to create an object that uses a modified Caeser Cipher. Check out the video for an explanation of how the object will work. The basic idea is the following, given a message such as \"hello world\", the encryption should perform the following steps:**\n",
    "\n",
    "** The encryption method you will create: **\n",
    "\n",
    "1. Accept a string, such as: \"hello world\"\n",
    "2. Add in a random letter in every other index position in the string, for example: 'hueqlzlpom cwgosrhlbdg'\n",
    "3. Then reverse this string, for example: 'gdblhrsogwc moplzlqeuh'\n",
    "4. Then create a shuffled version of the alphabet (remember to set a seed to the random.seed() so you can get this shuffled version again by providing the same seed number).\n",
    "5. Just like a classic Caeser cipher, match up the index of each letter and then encrypt the letters using this shuffled alphabet.\n",
    "\n",
    "The end result will be a string something like \"divgkjocdze bcrgqghywk\" for our previous example.\n",
    "\n",
    "To decrypt this, reverse the steps. The hardest step to reverse is the randomized shuffling of the alphabet, to regain the same shuffling, you will need the seed key. The method for the decryption will accept this as an argument.\n",
    "\n",
    "The \"skeleton\" of the code has been outlined for you to fill out below. Best of luck!"
   ]
  },
  {
   "cell_type": "code",
   "execution_count": 2,
   "metadata": {},
   "outputs": [],
   "source": [
    "### Complete this check the following notebook\n",
    "### FRE - test 3 adding in random letter\n",
    "### in the sandbox"
   ]
  },
  {
   "cell_type": "code",
   "execution_count": 4,
   "metadata": {
    "collapsed": true
   },
   "outputs": [],
   "source": [
    "# Imports you might need\n",
    "import string\n",
    "import random"
   ]
  },
  {
   "cell_type": "code",
   "execution_count": 11,
   "metadata": {
    "collapsed": true
   },
   "outputs": [],
   "source": [
    "class Encryption():\n",
    "    \n",
    "    def __init__(self,seed):\n",
    "        \n",
    "        # Set a random seed and a self.seed attribute\n",
    "        self.seed = seed\n",
    "        random.seed(self.seed)\n",
    "                \n",
    "        # Create an empty string attribute to hold the encrypted phrase\n",
    "        self.encrypted_phrase = \"\"\n",
    "        \n",
    "        # Use the string and random libraries to create two attributes\n",
    "        # One is the correct alphabet, another is a shuffled alphabet (hint: random.sample())\n",
    "        \n",
    "        # Correct alphabet\n",
    "        self.correct_alphabet = string.ascii_lowercase\n",
    "        \n",
    "        # Shuffled alphabet\n",
    "        # Take correct alphabet and convert it into a list\n",
    "        self.alphabet_list = list(self.correct_alphabet)\n",
    "        # Shuffle the list\n",
    "        self.shuffled_list = random.sample(self.alphabet_list, k=len(self.alphabet_list))\n",
    "        # Convert it back into a string\n",
    "        self.shuffled_alphabet = \"\".join(self.shuffled_list) \n",
    "        \n",
    "    def encryption(self,message):\n",
    "        '''\n",
    "        This method will take in a string message and encrypt it. Check the video or \n",
    "        the instructions above in the markdown for full description of how your\n",
    "        decryption method should work.\n",
    "        \n",
    "        '''\n",
    "        \n",
    "        \n",
    "        ################################################################\n",
    "        ### STEP 1: REPLACE EVERY OTHER LETTER WITH A RANDOM LETTER ###\n",
    "        ##############################################################\n",
    "        \n",
    "        # Convert the message into a list\n",
    "        message_list = list(message)\n",
    "        \n",
    "        # Make a new list for the list with the alternate subs\n",
    "        message_as = []\n",
    "        \n",
    "        for i, letter in enumerate(message_list):\n",
    "            if(i % 2 == 0):\n",
    "                message_as.append(self.shuffled_alphabet[i])\n",
    "            else:\n",
    "                message_as.append(message_list[i])\n",
    "                \n",
    "        # Convert the list into a string again\n",
    "        message_as_str = \"\".join(message_as)\n",
    "        \n",
    "        \n",
    "        #################################################\n",
    "        ### STEP 2: REVERSE THE STRING  ################\n",
    "        ###############################################\n",
    "        \n",
    "        reversed_message_as_str = message_as_str[::-1]\n",
    "        print(reversed_message_as_str)\n",
    "        \n",
    "        ##########################################################################\n",
    "        ##### STEP 3: USE THE RANDOM SHUFFLED ALPHABET FOR A Caeser CIPHER ######\n",
    "        ########################################################################\n",
    "        \n",
    "        encrypted_text = list(range(len(message)))\n",
    "        \n",
    "        for i,letter in enumerate(reversed_message_as_str.lower()):\n",
    "        \n",
    "            if letter in self.correct_alphabet:\n",
    "                index = self.correct_alphabet.index(letter)\n",
    "                encrypted_text[i] = self.shuffled_list[index]\n",
    "                pass\n",
    "            else:\n",
    "                encrypted_text[i] = letter\n",
    "                \n",
    "        # convert the list to a string again\n",
    "        encrypted_text_str = \"\".join(encrypted_text)\n",
    "        print(encrypted_text_str)\n",
    "     \n",
    "   \n",
    "    def decryption(self,message,seed):\n",
    "        '''\n",
    "        This method takes in a messsage and a seed for the random shuffled alphabet.\n",
    "        It then returns the decrypted alphabet.\n",
    "        '''\n",
    "        pass"
   ]
  },
  {
   "cell_type": "markdown",
   "metadata": {},
   "source": [
    "**Example of this in action:**"
   ]
  },
  {
   "cell_type": "code",
   "execution_count": 12,
   "metadata": {
    "collapsed": true
   },
   "outputs": [],
   "source": [
    "e = Encryption(20)"
   ]
  },
  {
   "cell_type": "code",
   "execution_count": 13,
   "metadata": {},
   "outputs": [
    {
     "data": {
      "text/plain": [
       "'divgkjocdze bcrgqghywk'"
      ]
     },
     "execution_count": 13,
     "metadata": {},
     "output_type": "execute_result"
    }
   ],
   "source": [
    "e.encryption('hello world')"
   ]
  },
  {
   "cell_type": "code",
   "execution_count": 14,
   "metadata": {},
   "outputs": [
    {
     "data": {
      "text/plain": [
       "'hello world'"
      ]
     },
     "execution_count": 14,
     "metadata": {},
     "output_type": "execute_result"
    }
   ],
   "source": [
    "e.decryption('divgkjocdze bcrgqghywk',20)"
   ]
  },
  {
   "cell_type": "markdown",
   "metadata": {},
   "source": [
    "Best of luck!"
   ]
  }
 ],
 "metadata": {
  "kernelspec": {
   "display_name": "Python 3",
   "language": "python",
   "name": "python3"
  },
  "language_info": {
   "codemirror_mode": {
    "name": "ipython",
    "version": 3
   },
   "file_extension": ".py",
   "mimetype": "text/x-python",
   "name": "python",
   "nbconvert_exporter": "python",
   "pygments_lexer": "ipython3",
   "version": "3.8.3"
  }
 },
 "nbformat": 4,
 "nbformat_minor": 2
}
