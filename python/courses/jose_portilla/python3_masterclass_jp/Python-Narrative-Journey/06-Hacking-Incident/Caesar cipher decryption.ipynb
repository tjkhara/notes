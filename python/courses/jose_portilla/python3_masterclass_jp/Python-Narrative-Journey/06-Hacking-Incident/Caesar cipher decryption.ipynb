{
 "cells": [
  {
   "cell_type": "code",
   "execution_count": 12,
   "metadata": {},
   "outputs": [],
   "source": [
    "def decrypt(text,shift):\n",
    "    '''\n",
    "    INPUT: A shifted message and the integer shift value\n",
    "    OUTPUT: The plain text original message.\n",
    "    '''\n",
    "    \n",
    "    # Create a normal plain alphabet\n",
    "    import string\n",
    "    alphabet = string.ascii_lowercase\n",
    "    \n",
    "    # Create a normal plain alphabet\n",
    "    alphabet_list_orig = list(alphabet)\n",
    "    replaced_list = list(alphabet)\n",
    "    alphabet_list_shifted = list(alphabet)\n",
    "    \n",
    "    # Create a shifted version of this alphabet with the shift value.\n",
    "    temp = 0\n",
    "    \n",
    "    for x in range(0,shift):\n",
    "        temp = alphabet_list_shifted.pop(0)\n",
    "        alphabet_list_shifted.append(temp)\n",
    "    \n",
    "    # Create a list from the characters of text and convert each character to lower case\n",
    "    char_list = list(text.lower())\n",
    "    \n",
    "    length_of_input = len(char_list)\n",
    "    \n",
    "    char_index = -1\n",
    "    \n",
    "    for y in char_list:\n",
    "        \n",
    "        char_index = char_index +1\n",
    "        \n",
    "        if y in ['?','.','!', ' ']:\n",
    "            continue\n",
    "\n",
    "        index = alphabet_list_shifted.index(y)\n",
    "        \n",
    "        # Take the character from the new list at this index and replace it in the list\n",
    "        char_list[char_index] = alphabet_list_orig[index]\n",
    "    \n",
    "    return_string = \"\".join(char_list)\n",
    "    return return_string\n",
    "    \n",
    "    pass"
   ]
  },
  {
   "cell_type": "code",
   "execution_count": 15,
   "metadata": {},
   "outputs": [
    {
     "data": {
      "text/plain": [
       "'hello how are you?'"
      ]
     },
     "execution_count": 15,
     "metadata": {},
     "output_type": "execute_result"
    }
   ],
   "source": [
    "decrypt('uryyb ubj ner lbh?',13)"
   ]
  },
  {
   "cell_type": "code",
   "execution_count": null,
   "metadata": {},
   "outputs": [],
   "source": []
  }
 ],
 "metadata": {
  "kernelspec": {
   "display_name": "Python 3",
   "language": "python",
   "name": "python3"
  },
  "language_info": {
   "codemirror_mode": {
    "name": "ipython",
    "version": 3
   },
   "file_extension": ".py",
   "mimetype": "text/x-python",
   "name": "python",
   "nbconvert_exporter": "python",
   "pygments_lexer": "ipython3",
   "version": "3.8.3"
  }
 },
 "nbformat": 4,
 "nbformat_minor": 4
}
