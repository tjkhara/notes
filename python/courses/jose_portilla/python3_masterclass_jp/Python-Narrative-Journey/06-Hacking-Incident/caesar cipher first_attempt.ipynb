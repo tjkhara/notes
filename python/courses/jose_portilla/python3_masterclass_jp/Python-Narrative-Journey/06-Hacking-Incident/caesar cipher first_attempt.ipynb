{
 "cells": [
  {
   "cell_type": "code",
   "execution_count": 3,
   "metadata": {},
   "outputs": [],
   "source": []
  },
  {
   "cell_type": "code",
   "execution_count": 9,
   "metadata": {},
   "outputs": [],
   "source": [
    "import string\n",
    "alphabet = string.ascii_lowercase\n",
    "# print(alphabet)\n",
    "# print(list(alphabet))\n",
    "\n",
    "\n",
    "def encrypt(text,shift):\n",
    "    '''\n",
    "    INPUT: text as a string and an integer for the shift value.\n",
    "    OUTPUT: The shifted text after being run through the Caeser cipher.\n",
    "    '''\n",
    "    \n",
    "    # Create a normal plain alphabet\n",
    "    alphabet_list_orig = list(alphabet)\n",
    "    replaced_list = list(alphabet)\n",
    "    alphabet_list_shifted = list(alphabet)\n",
    "    \n",
    "    #Print the original alphabet list\n",
    "    #print(\"The original alphabet list is \")\n",
    "    #print(list(enumerate(alphabet_list_orig)))\n",
    "    #print(\"\\n\")\n",
    "    \n",
    "    # Create a shifted version of this alphabet \n",
    "    # (Try slicing using the shift and then reconcatenating the two parts)\n",
    "    temp = 0\n",
    "    \n",
    "    for x in range(0,shift):\n",
    "        temp = alphabet_list_shifted.pop(0)\n",
    "        alphabet_list_shifted.append(temp)\n",
    "        \n",
    "    #print(\"Alphabet list shifted is: \")\n",
    "    #print(list(enumerate(alphabet_list_shifted)))\n",
    "    #print(\"\\n\")\n",
    "    \n",
    "    # Use a for loop to go through each character in the original message.\n",
    "    # Then figure out its index match in the shifted alphabet and replace.\n",
    "    # It might be helpful to create an output variable to hold the new message.\n",
    "    \n",
    "    # Convert the string to a list of characters\n",
    "    text_list = text.split()\n",
    "    \n",
    "    char_list = []\n",
    "    \n",
    "    for word in text_list:\n",
    "        for char in word.lower():\n",
    "            char_list.append(char)\n",
    "    \n",
    "    #print(\"The char_list is: \")\n",
    "    #print(char_list)\n",
    "    #print(\"\\n\")\n",
    "    \n",
    "    # Find the length of the list\n",
    "    length_of_input = len(char_list)\n",
    "    \n",
    "    char_index = -1\n",
    "    #length_of_char_list = len(char_list)\n",
    "    #print(\"The length of char_list is {}\\n\".format(length_of_char_list))\n",
    "    \n",
    "    for y in char_list:\n",
    "        \n",
    "        char_index = char_index +1\n",
    "        #print(\"Char index is {}\\n\".format(char_index))\n",
    "        \n",
    "        if y in ['?','.','!']:\n",
    "            continue\n",
    "        \n",
    "        # Replace the first character\n",
    "        # Find the index of the first character\n",
    "        index = alphabet_list_orig.index(y)\n",
    "        #print(\"The index for replacement is: \")\n",
    "        #print(index)\n",
    "        #print(\"\\n\")\n",
    "\n",
    "        # Take the character from the new list at this index and replace it in the list\n",
    "        char_list[char_index] = alphabet_list_shifted[index] \n",
    "\n",
    "        #print(\"Replaced list is: \")\n",
    "        #print(char_list)\n",
    "        #print(\"\\n\")\n",
    "    \n",
    "    # Print the completed replaced_list\n",
    "    #print(\"The completed replaced_list is: \")\n",
    "    #print(char_list)\n",
    "    #print(\"\\n\")\n",
    "    \n",
    "    # Keep in mind you may want to skip punctuation with an if statement.\n",
    "    # Done\n",
    "    \n",
    "    # Return the shifted message. Use ''.join() method\n",
    "    # Done\n",
    "    # if you still have it as a list.\n",
    "    # Done\n",
    "    return_string = \"\".join(char_list)\n",
    "    return return_string\n",
    "    #pass"
   ]
  },
  {
   "cell_type": "code",
   "execution_count": 10,
   "metadata": {},
   "outputs": [
    {
     "data": {
      "text/plain": [
       "'jgnnqjqyctgaqw'"
      ]
     },
     "execution_count": 10,
     "metadata": {},
     "output_type": "execute_result"
    }
   ],
   "source": [
    "encrypt('hello how are you',2)"
   ]
  },
  {
   "cell_type": "code",
   "execution_count": null,
   "metadata": {},
   "outputs": [],
   "source": []
  },
  {
   "cell_type": "code",
   "execution_count": null,
   "metadata": {},
   "outputs": [],
   "source": []
  }
 ],
 "metadata": {
  "kernelspec": {
   "display_name": "Python 3",
   "language": "python",
   "name": "python3"
  },
  "language_info": {
   "codemirror_mode": {
    "name": "ipython",
    "version": 3
   },
   "file_extension": ".py",
   "mimetype": "text/x-python",
   "name": "python",
   "nbconvert_exporter": "python",
   "pygments_lexer": "ipython3",
   "version": "3.8.3"
  }
 },
 "nbformat": 4,
 "nbformat_minor": 4
}
