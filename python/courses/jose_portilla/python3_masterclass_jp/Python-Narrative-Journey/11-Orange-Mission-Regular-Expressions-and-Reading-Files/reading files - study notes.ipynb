{
 "cells": [
  {
   "cell_type": "code",
   "execution_count": 1,
   "metadata": {},
   "outputs": [],
   "source": [
    "f = open('practice.txt','w+')"
   ]
  },
  {
   "cell_type": "code",
   "execution_count": 2,
   "metadata": {},
   "outputs": [
    {
     "data": {
      "text/plain": [
       "9"
      ]
     },
     "execution_count": 2,
     "metadata": {},
     "output_type": "execute_result"
    }
   ],
   "source": [
    "f.write('test line')"
   ]
  },
  {
   "cell_type": "code",
   "execution_count": 3,
   "metadata": {},
   "outputs": [],
   "source": [
    "f.close()"
   ]
  },
  {
   "cell_type": "code",
   "execution_count": 4,
   "metadata": {},
   "outputs": [],
   "source": [
    "import os"
   ]
  },
  {
   "cell_type": "code",
   "execution_count": 7,
   "metadata": {},
   "outputs": [
    {
     "data": {
      "text/plain": [
       "'/home/tkhara/courses_repo/python3_masterclass_jp/Python-Narrative-Journey/11-Orange-Mission-Regular-Expressions-and-Reading-Files'"
      ]
     },
     "execution_count": 7,
     "metadata": {},
     "output_type": "execute_result"
    }
   ],
   "source": [
    "# getting your current working directory\n",
    "\n",
    "os.getcwd()"
   ]
  },
  {
   "cell_type": "code",
   "execution_count": 11,
   "metadata": {},
   "outputs": [
    {
     "data": {
      "text/plain": [
       "['Templates',\n",
       " '.viminfo',\n",
       " '.local',\n",
       " 'Downloads',\n",
       " '.xsession-errors.old',\n",
       " 'courses_repo',\n",
       " '.bashrc',\n",
       " '.vagrant.d',\n",
       " 'anaconda3',\n",
       " '.nvm',\n",
       " 'VirtualBox VMs',\n",
       " '.bash_history',\n",
       " '.ipython',\n",
       " '.linuxmint',\n",
       " '.xsession-errors',\n",
       " '.cache',\n",
       " '.vimrc',\n",
       " '.vimrc~',\n",
       " '.Xauthority',\n",
       " '.cinnamon',\n",
       " 'sandbox',\n",
       " '.mozilla',\n",
       " '.gtkrc-2.0',\n",
       " '.conda',\n",
       " '.sudo_as_admin_successful',\n",
       " '.profile',\n",
       " '.npm',\n",
       " '.git-completion.bash',\n",
       " '.my-credentials',\n",
       " '.jupyter',\n",
       " 'Desktop',\n",
       " 'hello-world',\n",
       " '.condarc',\n",
       " 'Pictures',\n",
       " 'credentials',\n",
       " 'Public',\n",
       " '.lesshst',\n",
       " '.gitconfig',\n",
       " 'Videos',\n",
       " 'projects',\n",
       " '.gnupg',\n",
       " 'Music',\n",
       " '.bash_logout',\n",
       " 'notes',\n",
       " 'Documents',\n",
       " '.ssh',\n",
       " '.gtkrc-xfce',\n",
       " '.config',\n",
       " 'blog',\n",
       " 'envs']"
      ]
     },
     "execution_count": 11,
     "metadata": {},
     "output_type": "execute_result"
    }
   ],
   "source": [
    "# list everything in the directory\n",
    "\n",
    "os.listdir('/home/tkhara')"
   ]
  },
  {
   "cell_type": "code",
   "execution_count": 13,
   "metadata": {},
   "outputs": [],
   "source": [
    "# this provides a lot of utilities for dealing with files on your computer\n",
    "\n",
    "import shutil"
   ]
  },
  {
   "cell_type": "code",
   "execution_count": 14,
   "metadata": {},
   "outputs": [
    {
     "data": {
      "text/plain": [
       "['practice.txt',\n",
       " '04-Orange-Mission-Debrief.ipynb',\n",
       " '02-Unzipping-and-Zipping-Files.ipynb',\n",
       " 'new_file2.txt',\n",
       " '03-Orange-Mission.ipynb',\n",
       " 'comp_file.zip',\n",
       " 'Mission_Orange_Files',\n",
       " 'Example_Top_Level',\n",
       " '.ipynb_checkpoints',\n",
       " 'reading files - study notes.ipynb',\n",
       " '01-Opening-and-Reading-Files.ipynb',\n",
       " '00-Overview-of-Regular-Expressions.ipynb',\n",
       " 'new_file.txt',\n",
       " 'regular expressions my_notes 1.ipynb']"
      ]
     },
     "execution_count": 14,
     "metadata": {},
     "output_type": "execute_result"
    }
   ],
   "source": [
    "os.listdir()"
   ]
  },
  {
   "cell_type": "code",
   "execution_count": 15,
   "metadata": {},
   "outputs": [
    {
     "data": {
      "text/plain": [
       "'/home/tkhara/courses_repo/python3_masterclass_jp/Python-Narrative-Journey/practice.txt'"
      ]
     },
     "execution_count": 15,
     "metadata": {},
     "output_type": "execute_result"
    }
   ],
   "source": [
    "shutil.move('practice.txt','/home/tkhara/courses_repo/python3_masterclass_jp/Python-Narrative-Journey')"
   ]
  },
  {
   "cell_type": "code",
   "execution_count": 16,
   "metadata": {},
   "outputs": [
    {
     "data": {
      "text/plain": [
       "['04-Field-Readiness-Exam-2',\n",
       " '01-Recruitment-Trials-Bootcamp-Python-Basics',\n",
       " 'practice.txt',\n",
       " '13-Green-Mission-Sending-Emails-with-Python',\n",
       " '11-Orange-Mission-Regular-Expressions-and-Reading-Files',\n",
       " '10-Red-Mission-Web-Scraping',\n",
       " '03-Recruitment-Trials-Bootcamp-Working-with-Python',\n",
       " '02-Field-Readiness-Exam-1',\n",
       " '14-Blue-Mission-Working-with-Images-with-Python',\n",
       " '16-Violet-Mission-Mapping-with-Python',\n",
       " 'README.md',\n",
       " '06-Hacking-Incident',\n",
       " '07-Final-Recruitment-Topics',\n",
       " '05-Recruitment-Trials-Bootcamp-Part-3',\n",
       " '15-Indigo-Mission-Decryption-with-Python',\n",
       " '12-Yellow-Mission-Working-with-CSV-Files',\n",
       " '08-Final-Field-Readiness-Exam']"
      ]
     },
     "execution_count": 16,
     "metadata": {},
     "output_type": "execute_result"
    }
   ],
   "source": [
    "os.listdir('/home/tkhara/courses_repo/python3_masterclass_jp/Python-Narrative-Journey/')"
   ]
  },
  {
   "cell_type": "code",
   "execution_count": 17,
   "metadata": {},
   "outputs": [
    {
     "data": {
      "text/plain": [
       "'/home/tkhara/courses_repo/python3_masterclass_jp/Python-Narrative-Journey/11-Orange-Mission-Regular-Expressions-and-Reading-Files/practice.txt'"
      ]
     },
     "execution_count": 17,
     "metadata": {},
     "output_type": "execute_result"
    }
   ],
   "source": [
    "# move the file back\n",
    "\n",
    "shutil.move('/home/tkhara/courses_repo/python3_masterclass_jp/Python-Narrative-Journey/practice.txt',os.getcwd())"
   ]
  },
  {
   "cell_type": "code",
   "execution_count": 20,
   "metadata": {},
   "outputs": [
    {
     "data": {
      "text/plain": [
       "['practice.txt',\n",
       " '04-Orange-Mission-Debrief.ipynb',\n",
       " '02-Unzipping-and-Zipping-Files.ipynb',\n",
       " 'new_file2.txt',\n",
       " '03-Orange-Mission.ipynb',\n",
       " 'comp_file.zip',\n",
       " 'Mission_Orange_Files',\n",
       " 'Example_Top_Level',\n",
       " '.ipynb_checkpoints',\n",
       " 'reading files - study notes.ipynb',\n",
       " '01-Opening-and-Reading-Files.ipynb',\n",
       " '00-Overview-of-Regular-Expressions.ipynb',\n",
       " 'new_file.txt',\n",
       " 'regular expressions my_notes 1.ipynb']"
      ]
     },
     "execution_count": 20,
     "metadata": {},
     "output_type": "execute_result"
    }
   ],
   "source": [
    "os.listdir(os.getcwd())"
   ]
  },
  {
   "cell_type": "markdown",
   "metadata": {},
   "source": [
    "### deleting files"
   ]
  },
  {
   "cell_type": "code",
   "execution_count": 21,
   "metadata": {},
   "outputs": [],
   "source": [
    "# os.unlink()"
   ]
  },
  {
   "cell_type": "code",
   "execution_count": 22,
   "metadata": {},
   "outputs": [],
   "source": [
    "# os.rmdir()"
   ]
  },
  {
   "cell_type": "code",
   "execution_count": 23,
   "metadata": {},
   "outputs": [],
   "source": [
    "# remove all files and folders contained in the path\n",
    "# shutil.rmtree(path)"
   ]
  },
  {
   "cell_type": "code",
   "execution_count": 24,
   "metadata": {},
   "outputs": [],
   "source": [
    "import send2trash"
   ]
  },
  {
   "cell_type": "code",
   "execution_count": 25,
   "metadata": {},
   "outputs": [],
   "source": [
    "send2trash.send2trash('practice.txt')"
   ]
  },
  {
   "cell_type": "markdown",
   "metadata": {},
   "source": [
    "### walking through a directory"
   ]
  },
  {
   "cell_type": "code",
   "execution_count": 26,
   "metadata": {},
   "outputs": [],
   "source": [
    "my_path = '/home/tkhara/courses_repo/python3_masterclass_jp/Python-Narrative-Journey/11-Orange-Mission-Regular-Expressions-and-Reading-Files'"
   ]
  },
  {
   "cell_type": "code",
   "execution_count": 30,
   "metadata": {},
   "outputs": [
    {
     "name": "stdout",
     "output_type": "stream",
     "text": [
      "Currently looking at folder: \n",
      "/home/tkhara/courses_repo/python3_masterclass_jp/Python-Narrative-Journey/11-Orange-Mission-Regular-Expressions-and-Reading-Files\n",
      "Subfolders here are: \n",
      "Mission_Orange_Files\n",
      "Example_Top_Level\n",
      ".ipynb_checkpoints\n",
      "\n",
      "\n",
      "04-Orange-Mission-Debrief.ipynb\n",
      "02-Unzipping-and-Zipping-Files.ipynb\n",
      "new_file2.txt\n",
      "03-Orange-Mission.ipynb\n",
      "comp_file.zip\n",
      "reading files - study notes.ipynb\n",
      "01-Opening-and-Reading-Files.ipynb\n",
      "00-Overview-of-Regular-Expressions.ipynb\n",
      "new_file.txt\n",
      "regular expressions my_notes 1.ipynb\n",
      "\n",
      "\n",
      "Currently looking at folder: \n",
      "/home/tkhara/courses_repo/python3_masterclass_jp/Python-Narrative-Journey/11-Orange-Mission-Regular-Expressions-and-Reading-Files/Mission_Orange_Files\n",
      "Subfolders here are: \n",
      "extracted_content\n",
      "\n",
      "\n",
      "unzip_me_for_instructions.zip\n",
      "\n",
      "\n",
      "Currently looking at folder: \n",
      "/home/tkhara/courses_repo/python3_masterclass_jp/Python-Narrative-Journey/11-Orange-Mission-Regular-Expressions-and-Reading-Files/Mission_Orange_Files/extracted_content\n",
      "Subfolders here are: \n",
      "Four\n",
      "Five\n",
      "One\n",
      "Two\n",
      "Three\n",
      "\n",
      "\n",
      "Instructions.txt\n",
      "\n",
      "\n",
      "Currently looking at folder: \n",
      "/home/tkhara/courses_repo/python3_masterclass_jp/Python-Narrative-Journey/11-Orange-Mission-Regular-Expressions-and-Reading-Files/Mission_Orange_Files/extracted_content/Four\n",
      "Subfolders here are: \n",
      "\n",
      "\n",
      "REAXWSOIQDY.txt\n",
      "EPRNUHRSESC.txt\n",
      "RSXOTNGKBML.txt\n",
      "QDDETWBHJYC.txt\n",
      "WFSKPTXPFCH.txt\n",
      "QVNJULGXNUM.txt\n",
      "WXDJDOGZEHN.txt\n",
      "ROICPTWKXDX.txt\n",
      "QCWCFLKNZMN.txt\n",
      "ECIOBYCDVFI.txt\n",
      "QTDYYIFPHAU.txt\n",
      "WHTOHQUWXIN.txt\n",
      "WNJISWPEBRS.txt\n",
      "EXVQSVBQQQH.txt\n",
      "TAKNAVDMZKV.txt\n",
      "WYDLGSGGXKV.txt\n",
      "RXDARIDGKBF.txt\n",
      "QCTCKDIBBVG.txt\n",
      "TKCZSFQNJTX.txt\n",
      "EMTGPSXQEJX.txt\n",
      "ESDIZXHYCVY.txt\n",
      "TJFMLJODVAD.txt\n",
      "RYNXFYXMKHG.txt\n",
      "TWUOYFCCYBQ.txt\n",
      "THPNEGKTJWI.txt\n",
      "\n",
      "\n",
      "Currently looking at folder: \n",
      "/home/tkhara/courses_repo/python3_masterclass_jp/Python-Narrative-Journey/11-Orange-Mission-Regular-Expressions-and-Reading-Files/Mission_Orange_Files/extracted_content/Five\n",
      "Subfolders here are: \n",
      "\n",
      "\n",
      "CRFSDGYFSHA.txt\n",
      "COMGMZBJAYE.txt\n",
      "BNUQEHCFRTG.txt\n",
      "ARLKFCWIAJE.txt\n",
      "EYTCGIOYWIW.txt\n",
      "BUGKBZWRRVI.txt\n",
      "BSKJDRNEZQM.txt\n",
      "BTYWAHLHKBM.txt\n",
      "CXBVCTRBBIE.txt\n",
      "ESIZWBHMGDP.txt\n",
      "DDLASODUVPX.txt\n",
      "AQKATDFGXTS.txt\n",
      "CSCLFZCDYYC.txt\n",
      "EIPWXMQZJKU.txt\n",
      "DYOPIIVMZOO.txt\n",
      "DQPZQLBCJYP.txt\n",
      "APJKSRITGGX.txt\n",
      "AXJGVPVEFAS.txt\n",
      "EAAOEPSAWMQ.txt\n",
      "AEITMYIRQLP.txt\n",
      "DHZBAAYEADM.txt\n",
      "ETCUEXWNBCF.txt\n",
      "BVBURZZCAPR.txt\n",
      "CAHBEVSVDDN.txt\n",
      "DZUWWXYIAEL.txt\n",
      "\n",
      "\n",
      "Currently looking at folder: \n",
      "/home/tkhara/courses_repo/python3_masterclass_jp/Python-Narrative-Journey/11-Orange-Mission-Regular-Expressions-and-Reading-Files/Mission_Orange_Files/extracted_content/One\n",
      "Subfolders here are: \n",
      "\n",
      "\n",
      "KCXGNQCZBLO.txt\n",
      "HDOHZHFSTTK.txt\n",
      "PDJMSMNKIRM.txt\n",
      "PHWAVPEKAER.txt\n",
      "HVUTZEVMSBW.txt\n",
      "HMNZTLIFGPD.txt\n",
      "KMMLGJOWLGI.txt\n",
      "JTHSNBNPQSE.txt\n",
      "KFIUZFERLET.txt\n",
      "HFUTPPAXDIS.txt\n",
      "LFEATJAAYDC.txt\n",
      "JDLRVFCXYLU.txt\n",
      "KNBSKDREHQU.txt\n",
      "LIFDHOFKWOI.txt\n",
      "PQNVCVJINAR.txt\n",
      "LHODFIKVTQA.txt\n",
      "KTXDHIOKAUI.txt\n",
      "PTOBBCJYURJ.txt\n",
      "JLTXKIGCWDL.txt\n",
      "LPNDVDXPZIG.txt\n",
      "JQUOBKFUACN.txt\n",
      "HRQFTHKVJTL.txt\n",
      "PLYCGPVEAWO.txt\n",
      "JEHBLZPUPSP.txt\n",
      "LDGOCUQJNNS.txt\n",
      "\n",
      "\n",
      "Currently looking at folder: \n",
      "/home/tkhara/courses_repo/python3_masterclass_jp/Python-Narrative-Journey/11-Orange-Mission-Regular-Expressions-and-Reading-Files/Mission_Orange_Files/extracted_content/Two\n",
      "Subfolders here are: \n",
      "\n",
      "\n",
      "LCJZYDHBFRM.txt\n",
      "HEORIXOTANT.txt\n",
      "HMUTDOVNYTV.txt\n",
      "OHZOUOSFJQC.txt\n",
      "HTOHSTYXTCO.txt\n",
      "GMMQQUBMJNR.txt\n",
      "SIKFPPLCJDN.txt\n",
      "OKWFOOYTXFU.txt\n",
      "SJMJLDGPBSJ.txt\n",
      "OYMAGXAGWHJ.txt\n",
      "HARDNJGDRBC.txt\n",
      "SWOFXREEHWA.txt\n",
      "HMZXPBOPRAE.txt\n",
      "GKQBQRCTNNK.txt\n",
      "OMWIMVRCMYM.txt\n",
      "SOFUJYXTIMK.txt\n",
      "LVMBINRBJXL.txt\n",
      "LULTNYAQEJG.txt\n",
      "SPDZYGDHEWO.txt\n",
      "GQTJJORZBXY.txt\n",
      "OIHMLGMWTHL.txt\n",
      "GXYSEPAFRTP.txt\n",
      "LYZEQCVYNEZ.txt\n",
      "GTOTCIWMDBY.txt\n",
      "LSQSTGPIGIY.txt\n",
      "\n",
      "\n",
      "Currently looking at folder: \n",
      "/home/tkhara/courses_repo/python3_masterclass_jp/Python-Narrative-Journey/11-Orange-Mission-Regular-Expressions-and-Reading-Files/Mission_Orange_Files/extracted_content/Three\n",
      "Subfolders here are: \n",
      "\n",
      "\n",
      "VAQIJTDOFUJ.txt\n",
      "VVHFVZUNLOO.txt\n",
      "YCESZHJDBXH.txt\n",
      "XAJMCPEWFNI.txt\n",
      "VSXFSTABZDY.txt\n",
      "XVMPVSVYKFR.txt\n",
      "YQRNCMNFFHW.txt\n",
      "XFHJOTNPEJG.txt\n",
      "VCFJCGJFBIH.txt\n",
      "XJCWENFFGHB.txt\n",
      "ZXEZRQXZNPG.txt\n",
      "YQBIUHSUEVW.txt\n",
      "ZKQJXAYKPVD.txt\n",
      "XHZPVUQTXIO.txt\n",
      "YYIZGBTQHZP.txt\n",
      "VVKGWLRMHLU.txt\n",
      "ZXIBJMPROKW.txt\n",
      "ZOWVXWPOGWP.txt\n",
      "YDQFMWXOUMW.txt\n",
      "ZEZKKRBIZEB.txt\n",
      "\n",
      "\n",
      "Currently looking at folder: \n",
      "/home/tkhara/courses_repo/python3_masterclass_jp/Python-Narrative-Journey/11-Orange-Mission-Regular-Expressions-and-Reading-Files/Example_Top_Level\n",
      "Subfolders here are: \n",
      "Mid-Example-One\n",
      "\n",
      "\n",
      "Mid-Example.txt\n",
      "\n",
      "\n",
      "Currently looking at folder: \n",
      "/home/tkhara/courses_repo/python3_masterclass_jp/Python-Narrative-Journey/11-Orange-Mission-Regular-Expressions-and-Reading-Files/Example_Top_Level/Mid-Example-One\n",
      "Subfolders here are: \n",
      "Bottom-Level-One\n",
      "Bottom-Level-Two\n",
      "\n",
      "\n",
      "Mid-Level-Doc.txt\n",
      "\n",
      "\n",
      "Currently looking at folder: \n",
      "/home/tkhara/courses_repo/python3_masterclass_jp/Python-Narrative-Journey/11-Orange-Mission-Regular-Expressions-and-Reading-Files/Example_Top_Level/Mid-Example-One/Bottom-Level-One\n",
      "Subfolders here are: \n",
      "\n",
      "\n",
      "One_Text.txt\n",
      "\n",
      "\n",
      "Currently looking at folder: \n",
      "/home/tkhara/courses_repo/python3_masterclass_jp/Python-Narrative-Journey/11-Orange-Mission-Regular-Expressions-and-Reading-Files/Example_Top_Level/Mid-Example-One/Bottom-Level-Two\n",
      "Subfolders here are: \n",
      "\n",
      "\n",
      "Bottom-Text-Two.txt\n",
      "\n",
      "\n",
      "Currently looking at folder: \n",
      "/home/tkhara/courses_repo/python3_masterclass_jp/Python-Narrative-Journey/11-Orange-Mission-Regular-Expressions-and-Reading-Files/.ipynb_checkpoints\n",
      "Subfolders here are: \n",
      "\n",
      "\n",
      "00-Overview-of-Regular-Expressions-checkpoint.ipynb\n",
      "reading files - study notes-checkpoint.ipynb\n",
      "01-Opening-and-Reading-Files-checkpoint.ipynb\n",
      "04-Orange-Mission-Debrief-checkpoint.ipynb\n",
      "02-Unzipping-and-Zipping-Files-checkpoint.ipynb\n",
      "regular expressions my_notes 1-checkpoint.ipynb\n",
      "03-Orange-Mission-checkpoint.ipynb\n",
      "\n",
      "\n"
     ]
    }
   ],
   "source": [
    "for folder , sub_folders, files in os.walk(my_path):\n",
    "    \n",
    "    print('Currently looking at folder: ')\n",
    "    print(folder)\n",
    "    print('Subfolders here are: ')\n",
    "    \n",
    "    for sub_folder in sub_folders:\n",
    "        print(sub_folder)\n",
    "        \n",
    "    print('\\n')\n",
    "    \n",
    "    for f in files:\n",
    "        print(f)\n",
    "        \n",
    "    print('\\n')"
   ]
  },
  {
   "cell_type": "markdown",
   "metadata": {},
   "source": [
    "## zip files in python"
   ]
  },
  {
   "cell_type": "code",
   "execution_count": 31,
   "metadata": {},
   "outputs": [],
   "source": [
    "f = open('new_file.txt','w+')\n",
    "f.write('here is some text')\n",
    "f.close()"
   ]
  },
  {
   "cell_type": "code",
   "execution_count": 32,
   "metadata": {},
   "outputs": [],
   "source": [
    "f = open('new_file2.txt','w+')\n",
    "f.write('here is some text')\n",
    "f.close()"
   ]
  },
  {
   "cell_type": "code",
   "execution_count": 33,
   "metadata": {},
   "outputs": [],
   "source": [
    "import zipfile"
   ]
  },
  {
   "cell_type": "code",
   "execution_count": 35,
   "metadata": {},
   "outputs": [],
   "source": [
    "comp_file = zipfile.ZipFile('compressed_file.zip','w')"
   ]
  },
  {
   "cell_type": "code",
   "execution_count": 36,
   "metadata": {},
   "outputs": [],
   "source": [
    "comp_file.write('new_file.txt', compress_type=zipfile.ZIP_DEFLATED)"
   ]
  },
  {
   "cell_type": "code",
   "execution_count": 37,
   "metadata": {},
   "outputs": [],
   "source": [
    "comp_file.write('new_file2.txt', compress_type=zipfile.ZIP_DEFLATED)"
   ]
  },
  {
   "cell_type": "code",
   "execution_count": 38,
   "metadata": {},
   "outputs": [],
   "source": [
    "comp_file.close()"
   ]
  },
  {
   "cell_type": "code",
   "execution_count": 39,
   "metadata": {},
   "outputs": [],
   "source": [
    "# extracting from the zip file"
   ]
  },
  {
   "cell_type": "code",
   "execution_count": 40,
   "metadata": {},
   "outputs": [],
   "source": [
    "zip_obj = zipfile.ZipFile('compressed_file.zip','r')"
   ]
  },
  {
   "cell_type": "code",
   "execution_count": 41,
   "metadata": {},
   "outputs": [],
   "source": [
    "zip_obj.extractall('extracted_content')"
   ]
  },
  {
   "cell_type": "code",
   "execution_count": 42,
   "metadata": {},
   "outputs": [],
   "source": [
    "# you can extract an individual file as well"
   ]
  },
  {
   "cell_type": "code",
   "execution_count": 43,
   "metadata": {},
   "outputs": [
    {
     "data": {
      "text/plain": [
       "'/home/tkhara/courses_repo/python3_masterclass_jp/Python-Narrative-Journey/11-Orange-Mission-Regular-Expressions-and-Reading-Files/new_file.txt'"
      ]
     },
     "execution_count": 43,
     "metadata": {},
     "output_type": "execute_result"
    }
   ],
   "source": [
    "zip_obj.extract('new_file.txt')"
   ]
  },
  {
   "cell_type": "code",
   "execution_count": 44,
   "metadata": {},
   "outputs": [],
   "source": [
    "# using the shutil module for zip files"
   ]
  },
  {
   "cell_type": "code",
   "execution_count": 45,
   "metadata": {},
   "outputs": [],
   "source": [
    "import shutil"
   ]
  },
  {
   "cell_type": "code",
   "execution_count": 46,
   "metadata": {},
   "outputs": [
    {
     "data": {
      "text/plain": [
       "'/home/tkhara/courses_repo/python3_masterclass_jp/Python-Narrative-Journey/11-Orange-Mission-Regular-Expressions-and-Reading-Files/my_new_compressed.zip'"
      ]
     },
     "execution_count": 46,
     "metadata": {},
     "output_type": "execute_result"
    }
   ],
   "source": [
    "shutil.make_archive('my_new_compressed', 'zip', 'Mission_Orange_Files/')"
   ]
  },
  {
   "cell_type": "code",
   "execution_count": 48,
   "metadata": {},
   "outputs": [],
   "source": [
    " shutil.unpack_archive('my_new_compressed.zip', 'extracted-dir', 'zip')"
   ]
  },
  {
   "cell_type": "code",
   "execution_count": null,
   "metadata": {},
   "outputs": [],
   "source": []
  }
 ],
 "metadata": {
  "kernelspec": {
   "display_name": "Python 3",
   "language": "python",
   "name": "python3"
  },
  "language_info": {
   "codemirror_mode": {
    "name": "ipython",
    "version": 3
   },
   "file_extension": ".py",
   "mimetype": "text/x-python",
   "name": "python",
   "nbconvert_exporter": "python",
   "pygments_lexer": "ipython3",
   "version": "3.8.3"
  }
 },
 "nbformat": 4,
 "nbformat_minor": 4
}
