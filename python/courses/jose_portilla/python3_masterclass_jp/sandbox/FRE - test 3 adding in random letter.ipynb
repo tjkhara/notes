{
 "cells": [
  {
   "cell_type": "code",
   "execution_count": 3,
   "metadata": {},
   "outputs": [],
   "source": [
    "import random\n",
    "import string"
   ]
  },
  {
   "cell_type": "code",
   "execution_count": 67,
   "metadata": {},
   "outputs": [],
   "source": [
    "class Encryption():\n",
    "    \n",
    "    def __init__(self,seed):\n",
    "        \n",
    "        # Set a random seed and a self.seed attribute\n",
    "        self.seed = seed\n",
    "        random.seed(self.seed)\n",
    "                \n",
    "        # Create an empty string attribute to hold the encrypted phrase\n",
    "        self.encrypted_phrase = \"\"\n",
    "        \n",
    "        # Use the string and random libraries to create two attributes\n",
    "        # One is the correct alphabet, another is a shuffled alphabet (hint: random.sample())\n",
    "        \n",
    "        # Correct alphabet\n",
    "        self.correct_alphabet = string.ascii_lowercase\n",
    "        \n",
    "        # Shuffled alphabet\n",
    "        # Take correct alphabet and convert it into a list\n",
    "        self.alphabet_list = list(self.correct_alphabet)\n",
    "        # Shuffle the list\n",
    "        self.shuffled_list = random.sample(self.alphabet_list, k=len(self.alphabet_list))\n",
    "        # Convert it back into a string\n",
    "        self.shuffled_alphabet = \"\".join(self.shuffled_list) \n",
    "        \n",
    "    def encryption(self,message):\n",
    "        '''\n",
    "        This method will take in a string message and encrypt it. Check the video or \n",
    "        the instructions above in the markdown for full description of how your\n",
    "        decryption method should work.\n",
    "        \n",
    "        '''\n",
    "        \n",
    "        \n",
    "        ################################################################\n",
    "        ### STEP 1: Add in a random letter in every other index position \n",
    "        ### in the string, for example: 'hueqlzlpom cwgosrhlbdg' ###\n",
    "        ##############################################################\n",
    "        \n",
    "        ### Convert the message to a list\n",
    "        working_list = list(message)\n",
    "        ### Create a marked string\n",
    "        marked_str = \"#\".join(working_list)\n",
    "        ### Convert this to a list\n",
    "        marked_list = list(marked_str)\n",
    "        \n",
    "        # loop through this list and replace # with random lower case chars\n",
    "\n",
    "        for x in range(0,len(marked_list)):\n",
    "            if marked_list[x] == \"#\":\n",
    "                marked_list[x] = random.choice(string.ascii_lowercase)\n",
    "        \n",
    "                \n",
    "        # Convert the list into a string again\n",
    "        message_as_str = \"\".join(marked_list)\n",
    "        \n",
    "        print(\"Message with added random characters is: {}\".format(message_as_str))\n",
    "        \n",
    "        #################################################\n",
    "        ### STEP 2: REVERSE THE STRING  ################\n",
    "        ###############################################\n",
    "        \n",
    "        reversed_message_as_str = message_as_str[::-1]\n",
    "        print(\"Reversed after added chars is: {}\".format(reversed_message_as_str))\n",
    "        \n",
    "        \n",
    "        ##########################################################################\n",
    "        ##### STEP 3: USE THE RANDOM SHUFFLED ALPHABET FOR A Caeser CIPHER ######\n",
    "        ########################################################################\n",
    "        \n",
    "        encrypted_text = list(range(len(reversed_message_as_str)))\n",
    "        \n",
    "        for i,letter in enumerate(reversed_message_as_str.lower()):\n",
    "        \n",
    "            if letter in self.correct_alphabet:\n",
    "                index = self.correct_alphabet.index(letter)\n",
    "                encrypted_text[i] = self.shuffled_list[index]\n",
    "                pass\n",
    "            else:\n",
    "                encrypted_text[i] = letter\n",
    "                \n",
    "        # convert the list to a string again\n",
    "        encrypted_text_str = \"\".join(encrypted_text)\n",
    "        print(\"Final encrypted str after caesar cipher is: {}\".format(encrypted_text_str))\n",
    "     \n",
    "   \n",
    "    def decryption(self,message,seed):\n",
    "        '''\n",
    "        This method takes in a messsage and a seed for the random shuffled alphabet.\n",
    "        It then returns the decrypted alphabet.\n",
    "        '''\n",
    "        # 1 First reverse the caesar cipher\n",
    "        # Create a placeholder list\n",
    "        decrypted_text = list(range(len(message)))\n",
    "\n",
    "        alphabet = self.correct_alphabet\n",
    "\n",
    "        # eCreate shifted alphabet\n",
    "        shifted_alphabet = self.shuffled_list\n",
    "\n",
    "        for i,letter in enumerate(message.lower()):\n",
    "\n",
    "            # Check for spaces or punctuation\n",
    "            if letter in alphabet:\n",
    "                # Find the original index position\n",
    "                index = shifted_alphabet.index(letter)\n",
    "\n",
    "                # Shifted letter\n",
    "                original_letter = alphabet[index]\n",
    "\n",
    "                decrypted_text[i] = original_letter\n",
    "\n",
    "            # Punctuation or space\n",
    "            else:\n",
    "                decrypted_text[i] = letter\n",
    "\n",
    "        dec_cc_str = ''.join(decrypted_text)\n",
    "        print(dec_cc_str)\n",
    "        \n",
    "        #2 Reverse the string\n",
    "        \n",
    "        rev_cc_str = dec_cc_str[::-1]\n",
    "        print(\"Reversed cc string is: {}\".format(rev_cc_str))\n",
    "        \n",
    "        #3 Remove added characters\n",
    "        \n",
    "        # Make a new list\n",
    "        new_list = []\n",
    "        \n",
    "        # Make a list of the string\n",
    "        coded_list = list(rev_cc_str)\n",
    "        \n",
    "        for x in range(0, len(coded_list)):\n",
    "            if x%2==0:\n",
    "                new_list.append(coded_list[x])\n",
    "                \n",
    "        dec_str = \"\".join(new_list)\n",
    "        \n",
    "        print(dec_str)\n",
    "        \n",
    "        "
   ]
  },
  {
   "cell_type": "code",
   "execution_count": 68,
   "metadata": {},
   "outputs": [],
   "source": [
    "e = Encryption(20)"
   ]
  },
  {
   "cell_type": "code",
   "execution_count": 69,
   "metadata": {},
   "outputs": [
    {
     "name": "stdout",
     "output_type": "stream",
     "text": [
      "Message with added random characters is: hueqlzlpom cwgosrhlbd\n",
      "Reversed after added chars is: dblhrsogwc moplzlqeuh\n",
      "Final encrypted str after caesar cipher is: ivgkjocdze bcrgqghywk\n"
     ]
    }
   ],
   "source": [
    "e.encryption('hello world')"
   ]
  },
  {
   "cell_type": "code",
   "execution_count": 70,
   "metadata": {},
   "outputs": [
    {
     "name": "stdout",
     "output_type": "stream",
     "text": [
      "dblhrsogwc moplzlqeuh\n",
      "Reversed cc string is: hueqlzlpom cwgosrhlbd\n",
      "hello world\n"
     ]
    }
   ],
   "source": [
    "e.decryption('ivgkjocdze bcrgqghywk',20)"
   ]
  },
  {
   "cell_type": "code",
   "execution_count": null,
   "metadata": {},
   "outputs": [],
   "source": []
  }
 ],
 "metadata": {
  "kernelspec": {
   "display_name": "Python 3",
   "language": "python",
   "name": "python3"
  },
  "language_info": {
   "codemirror_mode": {
    "name": "ipython",
    "version": 3
   },
   "file_extension": ".py",
   "mimetype": "text/x-python",
   "name": "python",
   "nbconvert_exporter": "python",
   "pygments_lexer": "ipython3",
   "version": "3.8.3"
  }
 },
 "nbformat": 4,
 "nbformat_minor": 4
}
