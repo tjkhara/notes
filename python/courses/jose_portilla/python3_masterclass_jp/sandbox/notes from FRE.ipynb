{
 "cells": [
  {
   "cell_type": "code",
   "execution_count": 2,
   "metadata": {},
   "outputs": [],
   "source": [
    "import string\n",
    "import random"
   ]
  },
  {
   "cell_type": "code",
   "execution_count": 6,
   "metadata": {},
   "outputs": [
    {
     "name": "stdout",
     "output_type": "stream",
     "text": [
      "['a', 'b', 'c', 'd', 'e', 'f', 'g', 'h', 'i', 'j', 'k', 'l', 'm', 'n', 'o', 'p', 'q', 'r', 's', 't', 'u', 'v', 'w', 'x', 'y', 'z']\n",
      "['a', 'b', 'w', 'd', 'f', 'm', 'g', 'p', 'u', 'q', 't', 'y', 'e', 'r', 'o', 'k', 'c', 'z', 'v', 'h', 'l', 'j', 'n', 's', 'i', 'x']\n"
     ]
    }
   ],
   "source": [
    "true_alphabet = list(string.ascii_lowercase)\n",
    "rand_alphabet = random.sample(true_alphabet, len(true_alphabet))\n",
    "\n",
    "print(true_alphabet)\n",
    "print(rand_alphabet)"
   ]
  },
  {
   "cell_type": "code",
   "execution_count": 3,
   "metadata": {},
   "outputs": [],
   "source": []
  },
  {
   "cell_type": "code",
   "execution_count": 9,
   "metadata": {},
   "outputs": [],
   "source": [
    "message = \"hello world\"\n",
    "\n",
    "output = ''\n",
    "\n",
    "for i in range(len(message)):\n",
    "    output += message[i]\n",
    "    output += random.sample(true_alphabet, 1)[0]"
   ]
  },
  {
   "cell_type": "code",
   "execution_count": 10,
   "metadata": {},
   "outputs": [
    {
     "name": "stdout",
     "output_type": "stream",
     "text": [
      "hbeiljlxoz iwqomrilpdx\n"
     ]
    }
   ],
   "source": [
    "print(output)"
   ]
  },
  {
   "cell_type": "code",
   "execution_count": null,
   "metadata": {},
   "outputs": [],
   "source": []
  }
 ],
 "metadata": {
  "kernelspec": {
   "display_name": "Python 3",
   "language": "python",
   "name": "python3"
  },
  "language_info": {
   "codemirror_mode": {
    "name": "ipython",
    "version": 3
   },
   "file_extension": ".py",
   "mimetype": "text/x-python",
   "name": "python",
   "nbconvert_exporter": "python",
   "pygments_lexer": "ipython3",
   "version": "3.8.3"
  }
 },
 "nbformat": 4,
 "nbformat_minor": 4
}
