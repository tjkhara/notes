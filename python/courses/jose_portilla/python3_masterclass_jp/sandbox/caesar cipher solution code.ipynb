{
 "cells": [
  {
   "cell_type": "code",
   "execution_count": 47,
   "metadata": {},
   "outputs": [],
   "source": [
    "import string\n",
    "\n",
    "def encrypt(text, shift):\n",
    "    \n",
    "    # Create normal text alphabet\n",
    "    # encrypted_text is a list of the size of the text input\n",
    "    # we have to put the substituted letters into it so it has to be the same size\n",
    "    # right now it has numbers in it as placeholders\n",
    "    encrypted_text = list(range(len(text)))\n",
    "\n",
    "    alphabet = string.ascii_lowercase\n",
    "\n",
    "    # Create a shifted version of this alphabet\n",
    "    first_half = alphabet[:shift]\n",
    "    second_half = alphabet[shift:]\n",
    "    \n",
    "    shifted_alphabet = second_half + first_half\n",
    "    \n",
    "    for i,letter in enumerate(text.lower()):\n",
    "        \n",
    "        if letter in alphabet:\n",
    "            index = alphabet.index(letter)\n",
    "            encrypted_text[i] = shifted_alphabet[index]\n",
    "            pass\n",
    "        else:\n",
    "            encrypted_text[i] = letter\n",
    "    \n",
    "    print(encrypted_text)"
   ]
  },
  {
   "cell_type": "code",
   "execution_count": 48,
   "metadata": {},
   "outputs": [
    {
     "name": "stdout",
     "output_type": "stream",
     "text": [
      "['d', 'e', 'f']\n"
     ]
    }
   ],
   "source": [
    "encrypt(\"abc\", 3)"
   ]
  },
  {
   "cell_type": "code",
   "execution_count": null,
   "metadata": {},
   "outputs": [],
   "source": []
  },
  {
   "cell_type": "code",
   "execution_count": null,
   "metadata": {},
   "outputs": [],
   "source": []
  }
 ],
 "metadata": {
  "kernelspec": {
   "display_name": "Python 3",
   "language": "python",
   "name": "python3"
  },
  "language_info": {
   "codemirror_mode": {
    "name": "ipython",
    "version": 3
   },
   "file_extension": ".py",
   "mimetype": "text/x-python",
   "name": "python",
   "nbconvert_exporter": "python",
   "pygments_lexer": "ipython3",
   "version": "3.8.3"
  }
 },
 "nbformat": 4,
 "nbformat_minor": 4
}
