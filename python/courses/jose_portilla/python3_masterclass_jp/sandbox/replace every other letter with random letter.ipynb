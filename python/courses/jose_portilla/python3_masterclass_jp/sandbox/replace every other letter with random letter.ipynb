{
 "cells": [
  {
   "cell_type": "code",
   "execution_count": 1,
   "metadata": {},
   "outputs": [],
   "source": [
    "input_str = \"hello how are you?\""
   ]
  },
  {
   "cell_type": "code",
   "execution_count": 2,
   "metadata": {},
   "outputs": [],
   "source": [
    "# First let's replace every other letter with an x"
   ]
  },
  {
   "cell_type": "code",
   "execution_count": 3,
   "metadata": {},
   "outputs": [],
   "source": [
    "# Convert to list"
   ]
  },
  {
   "cell_type": "code",
   "execution_count": 4,
   "metadata": {},
   "outputs": [],
   "source": [
    "input_list = list(input_str)"
   ]
  },
  {
   "cell_type": "code",
   "execution_count": 5,
   "metadata": {},
   "outputs": [
    {
     "name": "stdout",
     "output_type": "stream",
     "text": [
      "['h', 'e', 'l', 'l', 'o', ' ', 'h', 'o', 'w', ' ', 'a', 'r', 'e', ' ', 'y', 'o', 'u', '?']\n"
     ]
    }
   ],
   "source": [
    "print(input_list)"
   ]
  },
  {
   "cell_type": "code",
   "execution_count": 16,
   "metadata": {},
   "outputs": [],
   "source": [
    "# Create new empty list\n",
    "\n",
    "new_list = []"
   ]
  },
  {
   "cell_type": "code",
   "execution_count": 13,
   "metadata": {},
   "outputs": [
    {
     "name": "stdout",
     "output_type": "stream",
     "text": [
      "0 and h\n",
      "1 and e\n",
      "2 and l\n",
      "3 and l\n",
      "4 and o\n",
      "5 and  \n",
      "6 and h\n",
      "7 and o\n",
      "8 and w\n",
      "9 and  \n",
      "10 and a\n",
      "11 and r\n",
      "12 and e\n",
      "13 and  \n",
      "14 and y\n",
      "15 and o\n",
      "16 and u\n",
      "17 and ?\n"
     ]
    }
   ],
   "source": [
    "for i, letter in enumerate(input_list):\n",
    "    print(\"{} and {}\".format(i,letter))"
   ]
  },
  {
   "cell_type": "code",
   "execution_count": 17,
   "metadata": {},
   "outputs": [
    {
     "name": "stdout",
     "output_type": "stream",
     "text": [
      "x\n",
      "e\n",
      "x\n",
      "l\n",
      "x\n",
      " \n",
      "x\n",
      "o\n",
      "x\n",
      " \n",
      "x\n",
      "r\n",
      "x\n",
      " \n",
      "x\n",
      "o\n",
      "x\n",
      "?\n"
     ]
    }
   ],
   "source": [
    "for i, letter in enumerate(input_list):\n",
    "    if(i % 2 == 0):\n",
    "        new_list.append('x')\n",
    "        print(new_list[i])\n",
    "    else:\n",
    "        new_list.append(letter)\n",
    "        print(new_list[i])"
   ]
  },
  {
   "cell_type": "code",
   "execution_count": null,
   "metadata": {},
   "outputs": [],
   "source": []
  }
 ],
 "metadata": {
  "kernelspec": {
   "display_name": "Python 3",
   "language": "python",
   "name": "python3"
  },
  "language_info": {
   "codemirror_mode": {
    "name": "ipython",
    "version": 3
   },
   "file_extension": ".py",
   "mimetype": "text/x-python",
   "name": "python",
   "nbconvert_exporter": "python",
   "pygments_lexer": "ipython3",
   "version": "3.8.3"
  }
 },
 "nbformat": 4,
 "nbformat_minor": 4
}
