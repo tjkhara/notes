{
 "cells": [
  {
   "cell_type": "code",
   "execution_count": 1,
   "metadata": {},
   "outputs": [],
   "source": [
    "import pyAesCrypt\n",
    "# encryption/decryption buffer size - 64K\n",
    "bufferSize = 64 * 1024\n",
    "password = \"password123\"\n",
    "# encrypt\n",
    "pyAesCrypt.encryptFile(\"data.txt\", \"data.txt.aes\", password, bufferSize)"
   ]
  },
  {
   "cell_type": "code",
   "execution_count": 2,
   "metadata": {},
   "outputs": [],
   "source": [
    "# decrypt\n",
    "pyAesCrypt.decryptFile(\"data.txt.aes\", \"dataout.txt\", password, bufferSize)"
   ]
  },
  {
   "cell_type": "code",
   "execution_count": null,
   "metadata": {},
   "outputs": [],
   "source": []
  }
 ],
 "metadata": {
  "kernelspec": {
   "display_name": "Python 3",
   "language": "python",
   "name": "python3"
  },
  "language_info": {
   "codemirror_mode": {
    "name": "ipython",
    "version": 3
   },
   "file_extension": ".py",
   "mimetype": "text/x-python",
   "name": "python",
   "nbconvert_exporter": "python",
   "pygments_lexer": "ipython3",
   "version": "3.8.3"
  }
 },
 "nbformat": 4,
 "nbformat_minor": 4
}
