{
 "cells": [
  {
   "cell_type": "code",
   "execution_count": 4,
   "metadata": {},
   "outputs": [
    {
     "name": "stdout",
     "output_type": "stream",
     "text": [
      "Please enter a number3\n",
      "Everything ran smoothly\n"
     ]
    }
   ],
   "source": [
    "try:\n",
    "    result = input(\"Please enter a number\")\n",
    "    1 + int(result)\n",
    "except TypeError:\n",
    "    print('You are not adding correct things together')\n",
    "except ValueError:\n",
    "    print('Hey make sure you supply a number')\n",
    "else:\n",
    "    print('Everything ran smoothly')"
   ]
  },
  {
   "cell_type": "code",
   "execution_count": null,
   "metadata": {},
   "outputs": [],
   "source": []
  }
 ],
 "metadata": {
  "kernelspec": {
   "display_name": "Python 3",
   "language": "python",
   "name": "python3"
  },
  "language_info": {
   "codemirror_mode": {
    "name": "ipython",
    "version": 3
   },
   "file_extension": ".py",
   "mimetype": "text/x-python",
   "name": "python",
   "nbconvert_exporter": "python",
   "pygments_lexer": "ipython3",
   "version": "3.8.3"
  }
 },
 "nbformat": 4,
 "nbformat_minor": 4
}
