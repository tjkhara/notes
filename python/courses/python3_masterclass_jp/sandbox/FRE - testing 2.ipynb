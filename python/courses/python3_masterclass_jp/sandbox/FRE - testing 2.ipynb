{
 "cells": [
  {
   "cell_type": "code",
   "execution_count": 3,
   "metadata": {},
   "outputs": [],
   "source": [
    "# Test the code till here to see if it works"
   ]
  },
  {
   "cell_type": "code",
   "execution_count": 27,
   "metadata": {},
   "outputs": [],
   "source": [
    "import random\n",
    "import string\n",
    "\n",
    "class Encryption():\n",
    "    \n",
    "    def __init__(self,seed):\n",
    "        \n",
    "        # Set a random seed and a self.seed attribute\n",
    "        self.seed = seed\n",
    "        random.seed(self.seed)\n",
    "                \n",
    "        # Create an empty string attribute to hold the encrypted phrase\n",
    "        self.encrypted_phrase = \"\"\n",
    "        \n",
    "        # Use the string and random libraries to create two attributes\n",
    "        # One is the correct alphabet, another is a shuffled alphabet (hint: random.sample())\n",
    "        \n",
    "        # Correct alphabet\n",
    "        self.correct_alphabet = string.ascii_lowercase\n",
    "        \n",
    "        # Shuffled alphabet\n",
    "        # Take correct alphabet and convert it into a list\n",
    "        self.alphabet_list = list(self.correct_alphabet)\n",
    "        # Shuffle the list\n",
    "        self.shuffled_list = random.sample(self.alphabet_list, k=len(self.alphabet_list))\n",
    "        # Convert it back into a string\n",
    "        self.shuffled_alphabet = \"\".join(self.shuffled_list) \n",
    "        \n",
    "    def encryption(self,message):\n",
    "        '''\n",
    "        This method will take in a string message and encrypt it. Check the video or \n",
    "        the instructions above in the markdown for full description of how your\n",
    "        decryption method should work.\n",
    "        \n",
    "        '''\n",
    "        \n",
    "        \n",
    "        ################################################################\n",
    "        ### STEP 1: REPLACE EVERY OTHER LETTER WITH A RANDOM LETTER ###\n",
    "        ##############################################################\n",
    "        \n",
    "        # Convert the message into a list\n",
    "        message_list = list(message)\n",
    "        \n",
    "        # Make a new list for the list with the alternate subs\n",
    "        message_as = []\n",
    "        \n",
    "        for i, letter in enumerate(message_list):\n",
    "            if(i % 2 == 0):\n",
    "                message_as.append(self.shuffled_alphabet[i])\n",
    "            else:\n",
    "                message_as.append(message_list[i])\n",
    "                \n",
    "        # Convert the list into a string again\n",
    "        message_as_str = \"\".join(message_as)\n",
    "        #print(message_as_str)\n",
    "        \n",
    "        #################################################\n",
    "        ### STEP 2: REVERSE THE STRING  ################\n",
    "        ###############################################\n",
    "        \n",
    "        reversed_message_as_str = message_as_str[::-1]\n",
    "        #print(reversed_message_as_str)\n",
    "        \n",
    "        ##########################################################################\n",
    "        ##### STEP 3: USE THE RANDOM SHUFFLED ALPHABET FOR A Caeser CIPHER ######\n",
    "        ########################################################################\n",
    "        \n",
    "        encrypted_text = list(range(len(message)))\n",
    "        \n",
    "        for i,letter in enumerate(reversed_message_as_str.lower()):\n",
    "        \n",
    "            if letter in self.correct_alphabet:\n",
    "                index = self.correct_alphabet.index(letter)\n",
    "                encrypted_text[i] = self.shuffled_list[index]\n",
    "                pass\n",
    "            else:\n",
    "                encrypted_text[i] = letter\n",
    "                \n",
    "        # convert the list to a string again\n",
    "        encrypted_text_str = \"\".join(encrypted_text)\n",
    "        #print(encrypted_text_str)"
   ]
  },
  {
   "cell_type": "code",
   "execution_count": 28,
   "metadata": {},
   "outputs": [],
   "source": [
    "e = Encryption(20)"
   ]
  },
  {
   "cell_type": "code",
   "execution_count": 29,
   "metadata": {},
   "outputs": [],
   "source": [
    "e.encryption('hello world')"
   ]
  },
  {
   "cell_type": "code",
   "execution_count": null,
   "metadata": {},
   "outputs": [],
   "source": []
  }
 ],
 "metadata": {
  "kernelspec": {
   "display_name": "Python 3",
   "language": "python",
   "name": "python3"
  },
  "language_info": {
   "codemirror_mode": {
    "name": "ipython",
    "version": 3
   },
   "file_extension": ".py",
   "mimetype": "text/x-python",
   "name": "python",
   "nbconvert_exporter": "python",
   "pygments_lexer": "ipython3",
   "version": "3.8.3"
  }
 },
 "nbformat": 4,
 "nbformat_minor": 4
}
