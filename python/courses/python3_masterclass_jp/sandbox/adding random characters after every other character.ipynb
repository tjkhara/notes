{
 "cells": [
  {
   "cell_type": "code",
   "execution_count": 13,
   "metadata": {},
   "outputs": [],
   "source": [
    "import string\n",
    "import random\n",
    "\n",
    "working_str = \"hello world\"\n",
    "\n",
    "working_list = list(working_str)\n",
    "\n",
    "marked_str = \"#\".join(working_list)"
   ]
  },
  {
   "cell_type": "code",
   "execution_count": 16,
   "metadata": {},
   "outputs": [],
   "source": [
    "# Convert this to a list\n",
    "\n",
    "marked_list = list(marked_str)\n",
    "\n",
    "# loop through this list and replace # with random lower case chars\n",
    "\n",
    "for x in range(0,len(marked_list)):\n",
    "    if marked_list[x] == \"#\":\n",
    "        marked_list[x] = random.choice(string.ascii_lowercase)"
   ]
  },
  {
   "cell_type": "code",
   "execution_count": 17,
   "metadata": {},
   "outputs": [
    {
     "name": "stdout",
     "output_type": "stream",
     "text": [
      "['h', 'k', 'e', 'b', 'l', 'e', 'l', 'w', 'o', 's', ' ', 'o', 'w', 'c', 'o', 'y', 'r', 'm', 'l', 'n', 'd']\n"
     ]
    }
   ],
   "source": [
    "print(marked_list)"
   ]
  },
  {
   "cell_type": "code",
   "execution_count": 18,
   "metadata": {},
   "outputs": [
    {
     "name": "stdout",
     "output_type": "stream",
     "text": [
      "hkeblelwos owcoyrmlnd\n"
     ]
    }
   ],
   "source": [
    "## Create this to a string\n",
    "\n",
    "random_string = \"\".join(marked_list)\n",
    "print(random_string)"
   ]
  },
  {
   "cell_type": "code",
   "execution_count": 19,
   "metadata": {},
   "outputs": [],
   "source": [
    "## Removing the added letters"
   ]
  },
  {
   "cell_type": "code",
   "execution_count": null,
   "metadata": {},
   "outputs": [],
   "source": []
  }
 ],
 "metadata": {
  "kernelspec": {
   "display_name": "Python 3",
   "language": "python",
   "name": "python3"
  },
  "language_info": {
   "codemirror_mode": {
    "name": "ipython",
    "version": 3
   },
   "file_extension": ".py",
   "mimetype": "text/x-python",
   "name": "python",
   "nbconvert_exporter": "python",
   "pygments_lexer": "ipython3",
   "version": "3.8.3"
  }
 },
 "nbformat": 4,
 "nbformat_minor": 4
}
