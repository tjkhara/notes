{
 "cells": [
  {
   "cell_type": "code",
   "execution_count": 5,
   "metadata": {},
   "outputs": [],
   "source": [
    "class Person():\n",
    "    \n",
    "    def __init__(self, first_name, last_name):\n",
    "        self.first_name = first_name\n",
    "        self.last_name = last_name\n",
    "        \n",
    "    def report(self):\n",
    "        print(\"I am {} {}\".format(self.first_name, self.last_name))\n",
    "        \n",
    "    def hello(self):\n",
    "        print(\"Hello\")\n",
    "        \n",
    "class Agent(Person):\n",
    "    \n",
    "    def __init__(self, first_name, last_name, code_name):\n",
    "        Person.__init__(self, first_name, last_name)\n",
    "        self.code_name = code_name\n",
    "        \n",
    "    def report(self):\n",
    "        print(\"Sorry I cannot tell you my name\")\n",
    "        print(\"But you can call me {}\".format(self.code_name))\n",
    "        \n",
    "    def truename(self, passcode):\n",
    "        if passcode==123:\n",
    "            print(\"correct passcode\")\n",
    "            print(\"I am {} {}\".format(self.first_name, self.last_name))\n",
    "        else:\n",
    "            self.report()\n",
    "            \n",
    "    # Private method\n",
    "    def _private_method(self):\n",
    "        print(\"Private method\")"
   ]
  },
  {
   "cell_type": "code",
   "execution_count": 6,
   "metadata": {},
   "outputs": [],
   "source": [
    "a = Agent('Alan', 'Turing', 'Hero')"
   ]
  },
  {
   "cell_type": "code",
   "execution_count": 7,
   "metadata": {},
   "outputs": [
    {
     "name": "stdout",
     "output_type": "stream",
     "text": [
      "Sorry I cannot tell you my name\n",
      "But you can call me Hero\n"
     ]
    }
   ],
   "source": [
    "a.report()"
   ]
  },
  {
   "cell_type": "code",
   "execution_count": 8,
   "metadata": {},
   "outputs": [
    {
     "data": {
      "text/plain": [
       "'Alan'"
      ]
     },
     "execution_count": 8,
     "metadata": {},
     "output_type": "execute_result"
    }
   ],
   "source": [
    "a.first_name"
   ]
  },
  {
   "cell_type": "code",
   "execution_count": null,
   "metadata": {},
   "outputs": [],
   "source": []
  }
 ],
 "metadata": {
  "kernelspec": {
   "display_name": "Python 3",
   "language": "python",
   "name": "python3"
  },
  "language_info": {
   "codemirror_mode": {
    "name": "ipython",
    "version": 3
   },
   "file_extension": ".py",
   "mimetype": "text/x-python",
   "name": "python",
   "nbconvert_exporter": "python",
   "pygments_lexer": "ipython3",
   "version": "3.8.3"
  }
 },
 "nbformat": 4,
 "nbformat_minor": 4
}
